{
 "cells": [
  {
   "cell_type": "code",
   "execution_count": 4,
   "id": "6ad27abb",
   "metadata": {},
   "outputs": [],
   "source": [
    "import numpy as np\n",
    "import matplotlib.pyplot as plt\n",
    "import pandas as pd\n",
    "import random"
   ]
  },
  {
   "attachments": {},
   "cell_type": "markdown",
   "id": "16fe2771",
   "metadata": {},
   "source": [
    "Clase y funciones para abrir el archivo, guardar la inrformacion de las imagenes y sus clases, y aleatorizarlos."
   ]
  },
  {
   "cell_type": "code",
   "execution_count": 5,
   "id": "490057cf",
   "metadata": {},
   "outputs": [],
   "source": [
    "def shuffle_lists(lst, lst2):\n",
    "    n = len(lst2)\n",
    "    for i in range(n - 1, 0, -1):\n",
    "        j = random.randint(0, i)\n",
    "        lst[i], lst[j] = np.copy(lst[j]), np.copy(lst[i])\n",
    "        lst2[i], lst2[j] = lst2[j], lst2[i]\n",
    "    return lst, lst2\n",
    "\n",
    "def shuffle(data, target):\n",
    "    # Hacer un shuffle de las listas\n",
    "    dataRand, targetRand = shuffle_lists(data, target)\n",
    "    return dataRand, targetRand"
   ]
  },
  {
   "cell_type": "code",
   "execution_count": 6,
   "id": "acba5a6d",
   "metadata": {},
   "outputs": [],
   "source": [
    "# Leer el archivo de texto\n",
    "class Data:\n",
    "    def __init__(self):\n",
    "        self._data = None\n",
    "        self._target = None\n",
    "        self._randomData = None\n",
    "        self._randomTarget = None\n",
    "        \n",
    "    # Metodos getters\n",
    "    def getRandomData(self):\n",
    "        return self._randomData\n",
    "    \n",
    "    def getRandomTarget(self):\n",
    "        return self._randomTarget\n",
    "    \n",
    "    # Funcion para leer el archivo y guardar las imagenes y sus clases\n",
    "    def load_data(self):\n",
    "        with open(\"optdigits.tes\", \"r\") as datos:\n",
    "            valores = []\n",
    "            for linea in datos:\n",
    "                valores.append([x for x in linea.strip().split(\",\")])\n",
    "                \n",
    "            # Crear matriz para guardar los valores de data\n",
    "            data = np.zeros((len(valores), 64))\n",
    "            for i in range(len(valores)):\n",
    "                data[i] = valores[i][:64]\n",
    "                \n",
    "            self._data = np.copy(data)\n",
    "            \n",
    "            # Crear matriz para guardar los valores de target (clases)\n",
    "            target = np.zeros((len(valores)))\n",
    "            for i in range(len(valores)):\n",
    "                target[i] = valores[i][64]\n",
    "                \n",
    "            self._target = np.copy(target)\n",
    "            \n",
    "            \n",
    "        print(\"Se cargaron los datos\")\n",
    "    \n",
    "    # Funcion para aleatorizar la informacion guardada\n",
    "    def randomizer(self):\n",
    "        # Crear matriz auxiliar para permutar filas de la matriz de datos\n",
    "        numDatos, numChar = self._data.shape\n",
    "        \n",
    "        randomData = np.copy(self._data)\n",
    "        # Crear arreglo auxiliar para permutar clases\n",
    "        numTarget = self._target.shape\n",
    "        \n",
    "        randomTarget = np.copy(self._target)\n",
    "        \n",
    "        # Tomar un valor random desde 0 hasta numDatos y mezclar\n",
    "        a, b = shuffle(randomData, randomTarget)\n",
    "        \n",
    "        # Guardar la matriz con filas intercambiadas y el arreglo con datos intercambiados\n",
    "        self._randomData = np.copy(a)\n",
    "        self._randomTarget = np.copy(b)\n",
    "        print(\"Datos aleatorizados\")"
   ]
  },
  {
   "attachments": {},
   "cell_type": "markdown",
   "id": "f5964761",
   "metadata": {},
   "source": [
    "Cargar el archivo y hacer aleatorios los datos con los que se va a trabajar"
   ]
  },
  {
   "cell_type": "code",
   "execution_count": 7,
   "id": "b7ca9caf",
   "metadata": {},
   "outputs": [
    {
     "ename": "FileNotFoundError",
     "evalue": "[Errno 2] No such file or directory: 'optdigits.tes'",
     "output_type": "error",
     "traceback": [
      "\u001b[1;31m---------------------------------------------------------------------------\u001b[0m",
      "\u001b[1;31mFileNotFoundError\u001b[0m                         Traceback (most recent call last)",
      "Cell \u001b[1;32mIn[7], line 2\u001b[0m\n\u001b[0;32m      1\u001b[0m data \u001b[39m=\u001b[39m Data()\n\u001b[1;32m----> 2\u001b[0m data\u001b[39m.\u001b[39;49mload_data()\n\u001b[0;32m      3\u001b[0m data\u001b[39m.\u001b[39mrandomizer()\n",
      "Cell \u001b[1;32mIn[6], line 18\u001b[0m, in \u001b[0;36mData.load_data\u001b[1;34m(self)\u001b[0m\n\u001b[0;32m     17\u001b[0m \u001b[39mdef\u001b[39;00m \u001b[39mload_data\u001b[39m(\u001b[39mself\u001b[39m):\n\u001b[1;32m---> 18\u001b[0m     \u001b[39mwith\u001b[39;00m \u001b[39mopen\u001b[39;49m(\u001b[39m\"\u001b[39;49m\u001b[39moptdigits.tes\u001b[39;49m\u001b[39m\"\u001b[39;49m, \u001b[39m\"\u001b[39;49m\u001b[39mr\u001b[39;49m\u001b[39m\"\u001b[39;49m) \u001b[39mas\u001b[39;00m datos:\n\u001b[0;32m     19\u001b[0m         valores \u001b[39m=\u001b[39m []\n\u001b[0;32m     20\u001b[0m         \u001b[39mfor\u001b[39;00m linea \u001b[39min\u001b[39;00m datos:\n",
      "File \u001b[1;32mc:\\Users\\HP\\AppData\\Local\\Programs\\Python\\Python311\\Lib\\site-packages\\IPython\\core\\interactiveshell.py:282\u001b[0m, in \u001b[0;36m_modified_open\u001b[1;34m(file, *args, **kwargs)\u001b[0m\n\u001b[0;32m    275\u001b[0m \u001b[39mif\u001b[39;00m file \u001b[39min\u001b[39;00m {\u001b[39m0\u001b[39m, \u001b[39m1\u001b[39m, \u001b[39m2\u001b[39m}:\n\u001b[0;32m    276\u001b[0m     \u001b[39mraise\u001b[39;00m \u001b[39mValueError\u001b[39;00m(\n\u001b[0;32m    277\u001b[0m         \u001b[39mf\u001b[39m\u001b[39m\"\u001b[39m\u001b[39mIPython won\u001b[39m\u001b[39m'\u001b[39m\u001b[39mt let you open fd=\u001b[39m\u001b[39m{\u001b[39;00mfile\u001b[39m}\u001b[39;00m\u001b[39m by default \u001b[39m\u001b[39m\"\u001b[39m\n\u001b[0;32m    278\u001b[0m         \u001b[39m\"\u001b[39m\u001b[39mas it is likely to crash IPython. If you know what you are doing, \u001b[39m\u001b[39m\"\u001b[39m\n\u001b[0;32m    279\u001b[0m         \u001b[39m\"\u001b[39m\u001b[39myou can use builtins\u001b[39m\u001b[39m'\u001b[39m\u001b[39m open.\u001b[39m\u001b[39m\"\u001b[39m\n\u001b[0;32m    280\u001b[0m     )\n\u001b[1;32m--> 282\u001b[0m \u001b[39mreturn\u001b[39;00m io_open(file, \u001b[39m*\u001b[39;49margs, \u001b[39m*\u001b[39;49m\u001b[39m*\u001b[39;49mkwargs)\n",
      "\u001b[1;31mFileNotFoundError\u001b[0m: [Errno 2] No such file or directory: 'optdigits.tes'"
     ]
    }
   ],
   "source": [
    "data = Data()\n",
    "data.load_data()\n",
    "data.randomizer()"
   ]
  },
  {
   "cell_type": "code",
   "execution_count": null,
   "id": "05443a9f",
   "metadata": {},
   "outputs": [
    {
     "data": {
      "text/plain": [
       "array([[ 0.,  0., 13., 13.,  8.,  2.,  0.,  0.,  0.,  5., 16., 16., 16.,\n",
       "        12.,  0.,  0.,  0.,  1., 15., 12.,  0.,  0.,  0.,  0.,  0.,  0.,\n",
       "        12., 13.,  7.,  1.,  0.,  0.,  0.,  0.,  8., 16., 16., 12.,  0.,\n",
       "         0.,  0.,  0.,  0.,  4.,  9., 16.,  3.,  0.,  0.,  0.,  1.,  5.,\n",
       "        14., 15.,  1.,  0.,  0.,  0., 10., 16., 16.,  6.,  0.,  0.],\n",
       "       [ 0.,  0.,  1., 11., 16., 16.,  8.,  0.,  0.,  0.,  5., 11.,  9.,\n",
       "        16., 11.,  0.,  0.,  0.,  0.,  0.,  2., 16.,  6.,  0.,  0.,  0.,\n",
       "         6.,  9., 12., 16.,  9.,  0.,  0.,  1., 16., 16., 16., 14.,  3.,\n",
       "         0.,  0.,  0.,  3.,  5., 16.,  7.,  0.,  0.,  0.,  0.,  0.,  8.,\n",
       "        14.,  0.,  0.,  0.,  0.,  0.,  1., 16.,  5.,  0.,  0.,  0.]])"
      ]
     },
     "execution_count": 6,
     "metadata": {},
     "output_type": "execute_result"
    }
   ],
   "source": [
    "# Devuelve los imagenes aleatorias con las que se va a trabajar\n",
    "datos = data.getRandomData()\n",
    "datos[:2]"
   ]
  },
  {
   "cell_type": "code",
   "execution_count": null,
   "id": "1369002f",
   "metadata": {},
   "outputs": [
    {
     "data": {
      "text/plain": [
       "array([5., 7., 7., ..., 9., 8., 5.])"
      ]
     },
     "execution_count": 7,
     "metadata": {},
     "output_type": "execute_result"
    }
   ],
   "source": [
    "# Devuelve las clases de las imagenes aleatorizadas\n",
    "target = data.getRandomTarget()\n",
    "target"
   ]
  },
  {
   "attachments": {},
   "cell_type": "markdown",
   "id": "7a755f1e",
   "metadata": {},
   "source": [
    "Se muestra un ejemplo de imagen aleatoria y su clase correspondiente"
   ]
  },
  {
   "cell_type": "code",
   "execution_count": null,
   "id": "1f921722",
   "metadata": {},
   "outputs": [
    {
     "ename": "NameError",
     "evalue": "name 'np' is not defined",
     "output_type": "error",
     "traceback": [
      "\u001b[1;31m---------------------------------------------------------------------------\u001b[0m",
      "\u001b[1;31mNameError\u001b[0m                                 Traceback (most recent call last)",
      "Cell \u001b[1;32mIn[2], line 3\u001b[0m\n\u001b[0;32m      1\u001b[0m \u001b[39m# Ejemplo\u001b[39;00m\n\u001b[0;32m      2\u001b[0m \u001b[39m#num = random.randint(0, 1700)\u001b[39;00m\n\u001b[1;32m----> 3\u001b[0m datos_res \u001b[39m=\u001b[39m np\u001b[39m.\u001b[39mreshape(datos[\u001b[39m0\u001b[39m], (\u001b[39m8\u001b[39m,\u001b[39m8\u001b[39m))\n\u001b[0;32m      4\u001b[0m \u001b[39mprint\u001b[39m(\u001b[39mf\u001b[39m\u001b[39m\"\u001b[39m\u001b[39mNumero\u001b[39m\u001b[39m{\u001b[39;00mtarget[\u001b[39m0\u001b[39m]\u001b[39m}\u001b[39;00m\u001b[39m\"\u001b[39m)\n\u001b[0;32m      5\u001b[0m plt\u001b[39m.\u001b[39mimshow(datos_res, cmap\u001b[39m=\u001b[39mplt\u001b[39m.\u001b[39mcm\u001b[39m.\u001b[39mgray_r, interpolation\u001b[39m=\u001b[39m\u001b[39m\"\u001b[39m\u001b[39mnearest\u001b[39m\u001b[39m\"\u001b[39m)\n",
      "\u001b[1;31mNameError\u001b[0m: name 'np' is not defined"
     ]
    }
   ],
   "source": [
    "# Ejemplo\n",
    "#num = random.randint(0, 1700)\n",
    "datos_res = np.reshape(datos[0], (8,8))\n",
    "print(f\"Numero{target[0]}\")\n",
    "plt.imshow(datos_res, cmap=plt.cm.gray_r, interpolation=\"nearest\")"
   ]
  },
  {
   "cell_type": "code",
   "execution_count": null,
   "id": "06b9ede0",
   "metadata": {},
   "outputs": [
    {
     "data": {
      "text/html": [
       "<div>\n",
       "<style scoped>\n",
       "    .dataframe tbody tr th:only-of-type {\n",
       "        vertical-align: middle;\n",
       "    }\n",
       "\n",
       "    .dataframe tbody tr th {\n",
       "        vertical-align: top;\n",
       "    }\n",
       "\n",
       "    .dataframe thead th {\n",
       "        text-align: right;\n",
       "    }\n",
       "</style>\n",
       "<table border=\"1\" class=\"dataframe\">\n",
       "  <thead>\n",
       "    <tr style=\"text-align: right;\">\n",
       "      <th></th>\n",
       "      <th>0</th>\n",
       "      <th>1</th>\n",
       "      <th>2</th>\n",
       "      <th>3</th>\n",
       "      <th>4</th>\n",
       "      <th>5</th>\n",
       "      <th>6</th>\n",
       "      <th>7</th>\n",
       "      <th>8</th>\n",
       "      <th>9</th>\n",
       "      <th>...</th>\n",
       "      <th>55</th>\n",
       "      <th>56</th>\n",
       "      <th>57</th>\n",
       "      <th>58</th>\n",
       "      <th>59</th>\n",
       "      <th>60</th>\n",
       "      <th>61</th>\n",
       "      <th>62</th>\n",
       "      <th>63</th>\n",
       "      <th>target</th>\n",
       "    </tr>\n",
       "  </thead>\n",
       "  <tbody>\n",
       "    <tr>\n",
       "      <th>0</th>\n",
       "      <td>0.0</td>\n",
       "      <td>0.0</td>\n",
       "      <td>13.0</td>\n",
       "      <td>13.0</td>\n",
       "      <td>8.0</td>\n",
       "      <td>2.0</td>\n",
       "      <td>0.0</td>\n",
       "      <td>0.0</td>\n",
       "      <td>0.0</td>\n",
       "      <td>5.0</td>\n",
       "      <td>...</td>\n",
       "      <td>0.0</td>\n",
       "      <td>0.0</td>\n",
       "      <td>0.0</td>\n",
       "      <td>10.0</td>\n",
       "      <td>16.0</td>\n",
       "      <td>16.0</td>\n",
       "      <td>6.0</td>\n",
       "      <td>0.0</td>\n",
       "      <td>0.0</td>\n",
       "      <td>5.0</td>\n",
       "    </tr>\n",
       "    <tr>\n",
       "      <th>1</th>\n",
       "      <td>0.0</td>\n",
       "      <td>0.0</td>\n",
       "      <td>1.0</td>\n",
       "      <td>11.0</td>\n",
       "      <td>16.0</td>\n",
       "      <td>16.0</td>\n",
       "      <td>8.0</td>\n",
       "      <td>0.0</td>\n",
       "      <td>0.0</td>\n",
       "      <td>0.0</td>\n",
       "      <td>...</td>\n",
       "      <td>0.0</td>\n",
       "      <td>0.0</td>\n",
       "      <td>0.0</td>\n",
       "      <td>1.0</td>\n",
       "      <td>16.0</td>\n",
       "      <td>5.0</td>\n",
       "      <td>0.0</td>\n",
       "      <td>0.0</td>\n",
       "      <td>0.0</td>\n",
       "      <td>7.0</td>\n",
       "    </tr>\n",
       "    <tr>\n",
       "      <th>2</th>\n",
       "      <td>0.0</td>\n",
       "      <td>0.0</td>\n",
       "      <td>5.0</td>\n",
       "      <td>11.0</td>\n",
       "      <td>16.0</td>\n",
       "      <td>16.0</td>\n",
       "      <td>5.0</td>\n",
       "      <td>0.0</td>\n",
       "      <td>0.0</td>\n",
       "      <td>3.0</td>\n",
       "      <td>...</td>\n",
       "      <td>0.0</td>\n",
       "      <td>0.0</td>\n",
       "      <td>0.0</td>\n",
       "      <td>8.0</td>\n",
       "      <td>16.0</td>\n",
       "      <td>0.0</td>\n",
       "      <td>0.0</td>\n",
       "      <td>0.0</td>\n",
       "      <td>0.0</td>\n",
       "      <td>7.0</td>\n",
       "    </tr>\n",
       "    <tr>\n",
       "      <th>3</th>\n",
       "      <td>0.0</td>\n",
       "      <td>0.0</td>\n",
       "      <td>9.0</td>\n",
       "      <td>16.0</td>\n",
       "      <td>16.0</td>\n",
       "      <td>7.0</td>\n",
       "      <td>0.0</td>\n",
       "      <td>0.0</td>\n",
       "      <td>0.0</td>\n",
       "      <td>13.0</td>\n",
       "      <td>...</td>\n",
       "      <td>0.0</td>\n",
       "      <td>0.0</td>\n",
       "      <td>0.0</td>\n",
       "      <td>9.0</td>\n",
       "      <td>16.0</td>\n",
       "      <td>16.0</td>\n",
       "      <td>14.0</td>\n",
       "      <td>5.0</td>\n",
       "      <td>0.0</td>\n",
       "      <td>3.0</td>\n",
       "    </tr>\n",
       "    <tr>\n",
       "      <th>4</th>\n",
       "      <td>0.0</td>\n",
       "      <td>0.0</td>\n",
       "      <td>0.0</td>\n",
       "      <td>8.0</td>\n",
       "      <td>12.0</td>\n",
       "      <td>0.0</td>\n",
       "      <td>0.0</td>\n",
       "      <td>0.0</td>\n",
       "      <td>0.0</td>\n",
       "      <td>0.0</td>\n",
       "      <td>...</td>\n",
       "      <td>0.0</td>\n",
       "      <td>0.0</td>\n",
       "      <td>0.0</td>\n",
       "      <td>0.0</td>\n",
       "      <td>12.0</td>\n",
       "      <td>10.0</td>\n",
       "      <td>0.0</td>\n",
       "      <td>0.0</td>\n",
       "      <td>0.0</td>\n",
       "      <td>4.0</td>\n",
       "    </tr>\n",
       "    <tr>\n",
       "      <th>5</th>\n",
       "      <td>0.0</td>\n",
       "      <td>1.0</td>\n",
       "      <td>7.0</td>\n",
       "      <td>13.0</td>\n",
       "      <td>16.0</td>\n",
       "      <td>11.0</td>\n",
       "      <td>0.0</td>\n",
       "      <td>0.0</td>\n",
       "      <td>0.0</td>\n",
       "      <td>11.0</td>\n",
       "      <td>...</td>\n",
       "      <td>0.0</td>\n",
       "      <td>0.0</td>\n",
       "      <td>0.0</td>\n",
       "      <td>7.0</td>\n",
       "      <td>16.0</td>\n",
       "      <td>12.0</td>\n",
       "      <td>7.0</td>\n",
       "      <td>0.0</td>\n",
       "      <td>0.0</td>\n",
       "      <td>3.0</td>\n",
       "    </tr>\n",
       "    <tr>\n",
       "      <th>6</th>\n",
       "      <td>0.0</td>\n",
       "      <td>0.0</td>\n",
       "      <td>0.0</td>\n",
       "      <td>8.0</td>\n",
       "      <td>16.0</td>\n",
       "      <td>0.0</td>\n",
       "      <td>0.0</td>\n",
       "      <td>0.0</td>\n",
       "      <td>0.0</td>\n",
       "      <td>0.0</td>\n",
       "      <td>...</td>\n",
       "      <td>0.0</td>\n",
       "      <td>0.0</td>\n",
       "      <td>0.0</td>\n",
       "      <td>0.0</td>\n",
       "      <td>11.0</td>\n",
       "      <td>13.0</td>\n",
       "      <td>0.0</td>\n",
       "      <td>0.0</td>\n",
       "      <td>0.0</td>\n",
       "      <td>4.0</td>\n",
       "    </tr>\n",
       "    <tr>\n",
       "      <th>7</th>\n",
       "      <td>0.0</td>\n",
       "      <td>0.0</td>\n",
       "      <td>2.0</td>\n",
       "      <td>9.0</td>\n",
       "      <td>14.0</td>\n",
       "      <td>12.0</td>\n",
       "      <td>0.0</td>\n",
       "      <td>0.0</td>\n",
       "      <td>0.0</td>\n",
       "      <td>0.0</td>\n",
       "      <td>...</td>\n",
       "      <td>0.0</td>\n",
       "      <td>0.0</td>\n",
       "      <td>0.0</td>\n",
       "      <td>1.0</td>\n",
       "      <td>12.0</td>\n",
       "      <td>16.0</td>\n",
       "      <td>8.0</td>\n",
       "      <td>0.0</td>\n",
       "      <td>0.0</td>\n",
       "      <td>0.0</td>\n",
       "    </tr>\n",
       "    <tr>\n",
       "      <th>8</th>\n",
       "      <td>0.0</td>\n",
       "      <td>0.0</td>\n",
       "      <td>9.0</td>\n",
       "      <td>16.0</td>\n",
       "      <td>16.0</td>\n",
       "      <td>8.0</td>\n",
       "      <td>0.0</td>\n",
       "      <td>0.0</td>\n",
       "      <td>0.0</td>\n",
       "      <td>5.0</td>\n",
       "      <td>...</td>\n",
       "      <td>0.0</td>\n",
       "      <td>0.0</td>\n",
       "      <td>0.0</td>\n",
       "      <td>9.0</td>\n",
       "      <td>16.0</td>\n",
       "      <td>15.0</td>\n",
       "      <td>5.0</td>\n",
       "      <td>0.0</td>\n",
       "      <td>0.0</td>\n",
       "      <td>2.0</td>\n",
       "    </tr>\n",
       "    <tr>\n",
       "      <th>9</th>\n",
       "      <td>0.0</td>\n",
       "      <td>0.0</td>\n",
       "      <td>4.0</td>\n",
       "      <td>14.0</td>\n",
       "      <td>16.0</td>\n",
       "      <td>15.0</td>\n",
       "      <td>1.0</td>\n",
       "      <td>0.0</td>\n",
       "      <td>0.0</td>\n",
       "      <td>5.0</td>\n",
       "      <td>...</td>\n",
       "      <td>0.0</td>\n",
       "      <td>0.0</td>\n",
       "      <td>0.0</td>\n",
       "      <td>3.0</td>\n",
       "      <td>16.0</td>\n",
       "      <td>2.0</td>\n",
       "      <td>0.0</td>\n",
       "      <td>0.0</td>\n",
       "      <td>0.0</td>\n",
       "      <td>9.0</td>\n",
       "    </tr>\n",
       "  </tbody>\n",
       "</table>\n",
       "<p>10 rows × 65 columns</p>\n",
       "</div>"
      ],
      "text/plain": [
       "     0    1     2     3     4     5    6    7    8     9  ...   55   56   57  \\\n",
       "0  0.0  0.0  13.0  13.0   8.0   2.0  0.0  0.0  0.0   5.0  ...  0.0  0.0  0.0   \n",
       "1  0.0  0.0   1.0  11.0  16.0  16.0  8.0  0.0  0.0   0.0  ...  0.0  0.0  0.0   \n",
       "2  0.0  0.0   5.0  11.0  16.0  16.0  5.0  0.0  0.0   3.0  ...  0.0  0.0  0.0   \n",
       "3  0.0  0.0   9.0  16.0  16.0   7.0  0.0  0.0  0.0  13.0  ...  0.0  0.0  0.0   \n",
       "4  0.0  0.0   0.0   8.0  12.0   0.0  0.0  0.0  0.0   0.0  ...  0.0  0.0  0.0   \n",
       "5  0.0  1.0   7.0  13.0  16.0  11.0  0.0  0.0  0.0  11.0  ...  0.0  0.0  0.0   \n",
       "6  0.0  0.0   0.0   8.0  16.0   0.0  0.0  0.0  0.0   0.0  ...  0.0  0.0  0.0   \n",
       "7  0.0  0.0   2.0   9.0  14.0  12.0  0.0  0.0  0.0   0.0  ...  0.0  0.0  0.0   \n",
       "8  0.0  0.0   9.0  16.0  16.0   8.0  0.0  0.0  0.0   5.0  ...  0.0  0.0  0.0   \n",
       "9  0.0  0.0   4.0  14.0  16.0  15.0  1.0  0.0  0.0   5.0  ...  0.0  0.0  0.0   \n",
       "\n",
       "     58    59    60    61   62   63  target  \n",
       "0  10.0  16.0  16.0   6.0  0.0  0.0     5.0  \n",
       "1   1.0  16.0   5.0   0.0  0.0  0.0     7.0  \n",
       "2   8.0  16.0   0.0   0.0  0.0  0.0     7.0  \n",
       "3   9.0  16.0  16.0  14.0  5.0  0.0     3.0  \n",
       "4   0.0  12.0  10.0   0.0  0.0  0.0     4.0  \n",
       "5   7.0  16.0  12.0   7.0  0.0  0.0     3.0  \n",
       "6   0.0  11.0  13.0   0.0  0.0  0.0     4.0  \n",
       "7   1.0  12.0  16.0   8.0  0.0  0.0     0.0  \n",
       "8   9.0  16.0  15.0   5.0  0.0  0.0     2.0  \n",
       "9   3.0  16.0   2.0   0.0  0.0  0.0     9.0  \n",
       "\n",
       "[10 rows x 65 columns]"
      ]
     },
     "execution_count": 9,
     "metadata": {},
     "output_type": "execute_result"
    }
   ],
   "source": [
    "# Dataframe para visualizar los datos\n",
    "df = pd.DataFrame(datos)\n",
    "df[\"target\"] = target\n",
    "df.head(10)"
   ]
  },
  {
   "cell_type": "code",
   "execution_count": null,
   "id": "a78969f1",
   "metadata": {},
   "outputs": [],
   "source": [
    "# Se separan los datos de prueba (500) y los datos de entrenamiento (1000)\n",
    "df_train, df_test = df[:1000], df[1000:1500]\n",
    "\n",
    "# Se preparan los datos de train y los datos de test\n",
    "X_train = df_train.drop(columns=[\"target\"]).values\n",
    "y_train = df_train[\"target\"].values\n",
    "\n",
    "X_test = df_test.drop(columns=[\"target\"]).values\n",
    "y_test = df_test[\"target\"].values"
   ]
  },
  {
   "cell_type": "code",
   "execution_count": null,
   "id": "00ad5b74",
   "metadata": {},
   "outputs": [],
   "source": [
    "# Funcion para calcular la distancia euclideana\n",
    "def euc_dist(x1, x2):\n",
    "    return np.sqrt(np.sum((x1-x2)**2))"
   ]
  },
  {
   "attachments": {},
   "cell_type": "markdown",
   "id": "aae816c0",
   "metadata": {},
   "source": [
    "Se crea la clase del modelo de KNN"
   ]
  },
  {
   "cell_type": "code",
   "execution_count": null,
   "id": "c86515ff",
   "metadata": {},
   "outputs": [],
   "source": [
    "class knnAlgorithm:\n",
    "    def __init__(self, k):\n",
    "        self.k = k\n",
    "        \n",
    "    def fit(self, X, y):\n",
    "        self.X_train = X # Imagenes\n",
    "        self.y_train = y # Clases\n",
    "        \n",
    "    def predict(self, X):\n",
    "        print(\"Preparando predicciones\")\n",
    "        y_pred = []\n",
    "        \n",
    "        # Obtener la distancia a todos los puntos\n",
    "        for i in range(len(X)):\n",
    "            distances = np.array([euc_dist(X[i], x_t) for x_t in self.X_train])\n",
    "            \n",
    "            # Ordenar las distancias y devolver solo los primeros k vecinos\n",
    "            sort_distance = np.argsort(distances)[: self.k]\n",
    "\n",
    "            # Guardar las distancias en un arreglo\n",
    "            knn = self.y_train[sort_distance]\n",
    "\n",
    "            # Contar las clases más coumnes\n",
    "            label, counts = np.unique(knn, return_counts = True)\n",
    "\n",
    "            y_pred.append(label[np.argmax(counts)])\n",
    "        return np.array(y_pred)\n",
    "    \n",
    "    def des(self, X):\n",
    "        print(\"Preparando predicciones...\")\n",
    "        y_pred = [self.predict(x) for x in X]\n",
    "        return np.array(y_pred)"
   ]
  },
  {
   "attachments": {},
   "cell_type": "markdown",
   "id": "cd7f5355",
   "metadata": {},
   "source": [
    "Se inicializa el modelo para k=3 y se entrena con los datos de X_train y y_train"
   ]
  },
  {
   "cell_type": "code",
   "execution_count": null,
   "id": "98120c80",
   "metadata": {},
   "outputs": [],
   "source": [
    "model = knnAlgorithm(k=3)\n",
    "model.fit(X_train, y_train)"
   ]
  },
  {
   "attachments": {},
   "cell_type": "markdown",
   "id": "5e285a60",
   "metadata": {},
   "source": [
    "Se comprueba la precisión del modelo con los mismos datos de entrenamiento"
   ]
  },
  {
   "cell_type": "code",
   "execution_count": null,
   "id": "34d69ed0",
   "metadata": {},
   "outputs": [
    {
     "name": "stdout",
     "output_type": "stream",
     "text": [
      "Preparando predicciones\n"
     ]
    },
    {
     "data": {
      "text/plain": [
       "array([5., 7., 7., 3., 4., 3., 4., 0., 2., 9.])"
      ]
     },
     "execution_count": 14,
     "metadata": {},
     "output_type": "execute_result"
    }
   ],
   "source": [
    "y_pred = model.predict(X_train)\n",
    "y_pred[:10]"
   ]
  },
  {
   "cell_type": "code",
   "execution_count": null,
   "id": "a13815ad",
   "metadata": {},
   "outputs": [
    {
     "data": {
      "text/plain": [
       "array([5., 7., 7., 3., 4., 3., 4., 0., 2., 9.])"
      ]
     },
     "execution_count": 15,
     "metadata": {},
     "output_type": "execute_result"
    }
   ],
   "source": [
    "y_train[:10]"
   ]
  },
  {
   "cell_type": "code",
   "execution_count": null,
   "id": "e1454790",
   "metadata": {},
   "outputs": [
    {
     "data": {
      "text/plain": [
       "array([ True,  True,  True,  True,  True,  True,  True,  True,  True,\n",
       "        True])"
      ]
     },
     "execution_count": 16,
     "metadata": {},
     "output_type": "execute_result"
    }
   ],
   "source": [
    "mask = y_pred == y_train\n",
    "mask[:10]"
   ]
  },
  {
   "attachments": {},
   "cell_type": "markdown",
   "id": "31e6722f",
   "metadata": {},
   "source": [
    "La precision del modelo fue:"
   ]
  },
  {
   "cell_type": "code",
   "execution_count": null,
   "id": "2020fc52",
   "metadata": {},
   "outputs": [
    {
     "name": "stdout",
     "output_type": "stream",
     "text": [
      "Precisión del modelo: 99.00%\n"
     ]
    }
   ],
   "source": [
    "model_accuracy = np.mean(y_pred == y_train)\n",
    "print(f\"Precisión del modelo: {model_accuracy * 100:.2f}%\")"
   ]
  },
  {
   "attachments": {},
   "cell_type": "markdown",
   "id": "2dab9fa8",
   "metadata": {},
   "source": [
    "# Prueba con datos de test"
   ]
  },
  {
   "cell_type": "code",
   "execution_count": null,
   "id": "57cd03f3",
   "metadata": {},
   "outputs": [
    {
     "name": "stdout",
     "output_type": "stream",
     "text": [
      "Preparando predicciones\n"
     ]
    },
    {
     "data": {
      "text/plain": [
       "array([5., 6., 7., 4., 4., 9., 5., 7., 2., 8., 1., 2., 4., 6., 9., 9., 3.,\n",
       "       0., 6., 6., 1., 0., 3., 6., 6., 1., 0., 3., 1., 7., 6., 5., 5., 2.,\n",
       "       1., 2., 5., 5., 0., 8., 1., 6., 7., 1., 7., 0., 4., 3., 8., 0., 5.,\n",
       "       1., 2., 7., 4., 8., 6., 6., 9., 9., 2., 7., 1., 2., 3., 3., 7., 7.,\n",
       "       5., 7., 5., 9., 9., 4., 9., 6., 6., 6., 5., 0., 0., 9., 3., 5., 6.,\n",
       "       0., 3., 4., 0., 5., 0., 2., 8., 8., 8., 8., 3., 4., 0., 7.])"
      ]
     },
     "execution_count": 18,
     "metadata": {},
     "output_type": "execute_result"
    }
   ],
   "source": [
    "y_pred = model.predict(X_test)\n",
    "y_pred[:100]"
   ]
  },
  {
   "cell_type": "code",
   "execution_count": null,
   "id": "78af9cbc",
   "metadata": {},
   "outputs": [
    {
     "data": {
      "text/plain": [
       "array([5., 6., 7., 4., 4., 9., 5., 7., 2., 8., 1., 2., 4., 6., 9., 9., 3.,\n",
       "       0., 6., 6., 1., 0., 3., 6., 6., 1., 0., 3., 1., 7., 6., 5., 5., 2.,\n",
       "       1., 2., 5., 5., 0., 8., 1., 6., 7., 1., 7., 0., 4., 3., 8., 0., 5.,\n",
       "       1., 2., 7., 4., 8., 6., 6., 9., 9., 2., 7., 1., 2., 3., 3., 7., 7.,\n",
       "       5., 4., 5., 9., 9., 4., 9., 6., 6., 6., 5., 0., 0., 9., 3., 5., 6.,\n",
       "       0., 3., 4., 0., 5., 0., 2., 8., 8., 8., 8., 3., 4., 0., 7.])"
      ]
     },
     "execution_count": 19,
     "metadata": {},
     "output_type": "execute_result"
    }
   ],
   "source": [
    "y_test[:100]"
   ]
  },
  {
   "cell_type": "code",
   "execution_count": null,
   "id": "fb7aa8ea",
   "metadata": {},
   "outputs": [
    {
     "data": {
      "text/plain": [
       "array([ True,  True,  True,  True,  True,  True,  True,  True,  True,\n",
       "        True,  True,  True,  True,  True,  True,  True,  True,  True,\n",
       "        True,  True,  True,  True,  True,  True,  True,  True,  True,\n",
       "        True,  True,  True,  True,  True,  True,  True,  True,  True,\n",
       "        True,  True,  True,  True,  True,  True,  True,  True,  True,\n",
       "        True,  True,  True,  True,  True,  True,  True,  True,  True,\n",
       "        True,  True,  True,  True,  True,  True,  True,  True,  True,\n",
       "        True,  True,  True,  True,  True,  True, False,  True,  True,\n",
       "        True,  True,  True,  True,  True,  True,  True,  True,  True,\n",
       "        True,  True,  True,  True,  True,  True,  True,  True,  True,\n",
       "        True,  True,  True,  True,  True,  True,  True,  True,  True,\n",
       "        True])"
      ]
     },
     "execution_count": 20,
     "metadata": {},
     "output_type": "execute_result"
    }
   ],
   "source": [
    "mask = y_pred == y_test\n",
    "mask[:100]"
   ]
  },
  {
   "attachments": {},
   "cell_type": "markdown",
   "id": "b9d82d43",
   "metadata": {},
   "source": [
    "La precision del modelo para los datos de test fue:"
   ]
  },
  {
   "cell_type": "code",
   "execution_count": null,
   "id": "5378059a",
   "metadata": {},
   "outputs": [
    {
     "name": "stdout",
     "output_type": "stream",
     "text": [
      "Model accuracy: 98.80%\n"
     ]
    }
   ],
   "source": [
    "model_accuracy = np.mean(y_pred == y_test)\n",
    "print(f\"Model accuracy: {model_accuracy * 100:.2f}%\")"
   ]
  }
 ],
 "metadata": {
  "kernelspec": {
   "display_name": "Python 3 (ipykernel)",
   "language": "python",
   "name": "python3"
  },
  "language_info": {
   "codemirror_mode": {
    "name": "ipython",
    "version": 3
   },
   "file_extension": ".py",
   "mimetype": "text/x-python",
   "name": "python",
   "nbconvert_exporter": "python",
   "pygments_lexer": "ipython3",
   "version": "3.11.2"
  }
 },
 "nbformat": 4,
 "nbformat_minor": 5
}
