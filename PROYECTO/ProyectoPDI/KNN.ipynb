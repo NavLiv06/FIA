{
 "cells": [
  {
   "cell_type": "code",
   "execution_count": 1,
   "metadata": {},
   "outputs": [],
   "source": [
    "import numpy as np\n",
    "import matplotlib.pyplot as plt\n",
    "import pandas as pd\n",
    "import random"
   ]
  },
  {
   "cell_type": "code",
   "execution_count": 2,
   "metadata": {},
   "outputs": [],
   "source": [
    "def shuffle_lists(lst, lst2):\n",
    "    n = len(lst2)\n",
    "    for i in range(n - 1, 0, -1):\n",
    "        j = random.randint(0, i)\n",
    "        lst[i], lst[j] = np.copy(lst[j]), np.copy(lst[i])\n",
    "        lst2[i], lst2[j] = lst2[j], lst2[i]\n",
    "    return lst, lst2\n",
    "\n",
    "def shuffle(data, target):\n",
    "    # Hacer un shuffle de las listas\n",
    "    dataRand, targetRand = shuffle_lists(data, target)\n",
    "    return dataRand, targetRand\n",
    "# Leer el archivo de texto\n",
    "class Data:\n",
    "    def __init__(self):\n",
    "        self._data = None\n",
    "        self._target = None\n",
    "        self._randomData = None\n",
    "        self._randomTarget = None\n",
    "        \n",
    "    # Metodos getters\n",
    "    def getRandomData(self):\n",
    "        return self._randomData\n",
    "    \n",
    "    def getRandomTarget(self):\n",
    "        return self._randomTarget\n",
    "    \n",
    "    # Funcion para leer el archivo y guardar las imagenes y sus clases\n",
    "    def load_data(self):\n",
    "        with open(\"optdigits.tes\", \"r\") as datos:\n",
    "            valores = []\n",
    "            for linea in datos:\n",
    "                valores.append([x for x in linea.strip().split(\",\")])\n",
    "                \n",
    "            # Crear matriz para guardar los valores de data\n",
    "            data = np.zeros((len(valores), 64))\n",
    "            for i in range(len(valores)):\n",
    "                data[i] = valores[i][:64]\n",
    "                \n",
    "            self._data = np.copy(data)\n",
    "            \n",
    "            # Crear matriz para guardar los valores de target (clases)\n",
    "            target = np.zeros((len(valores)))\n",
    "            for i in range(len(valores)):\n",
    "                target[i] = valores[i][64]\n",
    "                \n",
    "            self._target = np.copy(target)\n",
    "            \n",
    "            \n",
    "        print(\"Se cargaron los datos\")\n",
    "    \n",
    "    # Funcion para aleatorizar la informacion guardada\n",
    "    def randomizer(self):\n",
    "        # Crear matriz auxiliar para permutar filas de la matriz de datos\n",
    "        numDatos, numChar = self._data.shape\n",
    "        \n",
    "        randomData = np.copy(self._data)\n",
    "        # Crear arreglo auxiliar para permutar clases\n",
    "        numTarget = self._target.shape\n",
    "        \n",
    "        randomTarget = np.copy(self._target)\n",
    "        \n",
    "        # Tomar un valor random desde 0 hasta numDatos y mezclar\n",
    "        a, b = shuffle(randomData, randomTarget)\n",
    "        \n",
    "        # Guardar la matriz con filas intercambiadas y el arreglo con datos intercambiados\n",
    "        self._randomData = np.copy(a)\n",
    "        self._randomTarget = np.copy(b)\n",
    "        print(\"Datos aleatorizados\")"
   ]
  },
  {
   "cell_type": "code",
   "execution_count": 3,
   "metadata": {},
   "outputs": [
    {
     "name": "stdout",
     "output_type": "stream",
     "text": [
      "Se cargaron los datos\n",
      "Datos aleatorizados\n"
     ]
    }
   ],
   "source": [
    "data = Data()\n",
    "data.load_data()\n",
    "data.randomizer()\n",
    "\n",
    "# Devuelve los imagenes aleatorias con las que se va a trabajar\n",
    "datos = data.getRandomData()\n",
    "\n",
    "# Devuelve las clases de las imagenes aleatorizadas\n",
    "target = data.getRandomTarget()\n",
    "df = pd.DataFrame(datos)\n",
    "df[\"target\"] = target\n",
    "\n",
    "# Se separan los datos de prueba (500) y los datos de entrenamiento (1000)\n",
    "df_train, df_test = df[:1000], df[1000:1500]\n",
    "\n",
    "# Se preparan los datos de train y los datos de test\n",
    "X_train = df_train.drop(columns=[\"target\"]).values\n",
    "y_train = df_train[\"target\"].values\n",
    "\n",
    "X_test = df_test.drop(columns=[\"target\"]).values\n",
    "y_test = df_test[\"target\"].values"
   ]
  },
  {
   "cell_type": "code",
   "execution_count": 4,
   "metadata": {},
   "outputs": [],
   "source": [
    "# Funcion para calcular la distancia euclideana\n",
    "def euc_dist(x1, x2):\n",
    "    return np.sqrt(np.sum((x1-x2)**2))\n",
    "\n",
    "class knnAlgorithm:\n",
    "    def __init__(self, k):\n",
    "        self.k = k\n",
    "        \n",
    "    def fit(self, X, y):\n",
    "        self.X_train = X # Imagenes\n",
    "        self.y_train = y # Clases\n",
    "        \n",
    "    def predict(self, X):\n",
    "        print(\"Preparando predicciones\")\n",
    "        \n",
    "        # Obtener la distancia a todos los puntos\n",
    "        distances = np.array([euc_dist(X, x_t) for x_t in self.X_train])\n",
    "            \n",
    "        # Ordenar las distancias y devolver solo los primeros k vecinos\n",
    "        sort_distance = np.argsort(distances)[: self.k]\n",
    "\n",
    "        # Guardar las distancias en un arreglo\n",
    "        knn = self.y_train[sort_distance]\n",
    "\n",
    "        # Contar las clases más coumnes\n",
    "        label, counts = np.unique(knn, return_counts = True)\n",
    "\n",
    "        y_pred = label[np.argmax(counts)]\n",
    "        return y_pred"
   ]
  },
  {
   "cell_type": "code",
   "execution_count": 5,
   "metadata": {},
   "outputs": [],
   "source": [
    "model = knnAlgorithm(k=3)\n",
    "model.fit(X_train, y_train)"
   ]
  },
  {
   "cell_type": "code",
   "execution_count": 6,
   "metadata": {},
   "outputs": [],
   "source": [
    "# Funcion para convertir a escala de grises\n",
    "def escala_grises_precisa(imagen):\n",
    "    wid, hght, channel = imagen.shape\n",
    "    matriz = np.zeros((wid,hght))\n",
    "    for i in range(hght-1):\n",
    "        for j in range(wid-1):\n",
    "            pixel = imagen[i][j]\n",
    "            gris = (pixel[0] * 0.21) + (pixel[1] * 0.72) + (pixel[2] * 0.07)\n",
    "            matriz[i][j] = gris\n",
    "    return matriz"
   ]
  },
  {
   "cell_type": "code",
   "execution_count": 7,
   "metadata": {},
   "outputs": [],
   "source": [
    "# Redimensionar a 8x8\n",
    "def subsampling(image, new_wid, new_hght):\n",
    "    \n",
    "    wid, hght, channel= image.shape\n",
    "\n",
    "    # Escala\n",
    "    scale_x = wid / new_wid\n",
    "    scale_y = hght / new_hght\n",
    "\n",
    "    subsampled_image = np.zeros((new_wid, new_hght, 3), np.uint8)\n",
    "\n",
    "    for y in range(new_hght):\n",
    "        for x in range(new_wid):\n",
    "            \n",
    "            original_x = int(x * scale_x)\n",
    "            original_y = int(y * scale_y)\n",
    "\n",
    "            pixel_r = image[original_x][original_y][0]\n",
    "            pixel_g = image[original_x][original_y][1]\n",
    "            pixel_b = image[original_x][original_y][2]\n",
    "\n",
    "            subsampled_image[x][y][0] = pixel_r\n",
    "            subsampled_image[x][y][1] = pixel_g\n",
    "            subsampled_image[x][y][2] = pixel_b\n",
    "\n",
    "    return subsampled_image"
   ]
  },
  {
   "cell_type": "code",
   "execution_count": 8,
   "metadata": {},
   "outputs": [],
   "source": [
    "def norm0_16(imagen):\n",
    "    wid, hght = imagen.shape\n",
    "    newImage = np.zeros((wid, hght), np.uint8)\n",
    "\n",
    "    # \n",
    "    for i in range(wid):\n",
    "        for j in range(hght):\n",
    "            newImage[i][j] = np.ceil(imagen[i][j] * 0.06)\n",
    "\n",
    "    return newImage"
   ]
  },
  {
   "cell_type": "code",
   "execution_count": 25,
   "metadata": {},
   "outputs": [
    {
     "data": {
      "text/plain": [
       "<matplotlib.image.AxesImage at 0x1453cd7dc90>"
      ]
     },
     "execution_count": 25,
     "metadata": {},
     "output_type": "execute_result"
    },
    {
     "data": {
      "image/png": "[encoded data removed]",
      "text/plain": [
       "<Figure size 640x480 with 1 Axes>"
      ]
     },
     "metadata": {},
     "output_type": "display_data"
    }
   ],
   "source": [
    "import cv2\n",
    "\n",
    "# Convertir imagenes de 0 a 255  a 0 a 16\n",
    "imagen = cv2.imread('Suma/suma.jpeg', 1)\n",
    "img = np.copy(imagen)\n",
    "clase = 4\n",
    "plt.imshow(img)"
   ]
  },
  {
   "cell_type": "code",
   "execution_count": 26,
   "metadata": {},
   "outputs": [
    {
     "data": {
      "text/plain": [
       "<matplotlib.image.AxesImage at 0x1453ce186d0>"
      ]
     },
     "execution_count": 26,
     "metadata": {},
     "output_type": "execute_result"
    },
    {
     "data": {
      "image/png": "[encoded data removed]",
      "text/plain": [
       "<Figure size 640x480 with 1 Axes>"
      ]
     },
     "metadata": {},
     "output_type": "display_data"
    }
   ],
   "source": [
    "new_wid = 8\n",
    "new_hght = 8\n",
    "\n",
    "subsampled_img = subsampling(img, new_wid, new_hght)\n",
    "plt.imshow(subsampled_img, cmap= plt.cm.gray_r, interpolation=\"nearest\")"
   ]
  },
  {
   "cell_type": "code",
   "execution_count": 27,
   "metadata": {},
   "outputs": [
    {
     "data": {
      "text/plain": [
       "<matplotlib.image.AxesImage at 0x1453ce72e50>"
      ]
     },
     "execution_count": 27,
     "metadata": {},
     "output_type": "execute_result"
    },
    {
     "data": {
      "image/png": "[encoded data removed]",
      "text/plain": [
       "<Figure size 640x480 with 1 Axes>"
      ]
     },
     "metadata": {},
     "output_type": "display_data"
    }
   ],
   "source": [
    "imagen_gris = escala_grises_precisa(subsampled_img)\n",
    "# Pasar a 0 a 16\n",
    "imagen0_16 = norm0_16(imagen_gris)\n",
    "\n",
    "# Mostrar imagen\n",
    "plt.imshow(imagen0_16, cmap=plt.cm.gray_r, interpolation=\"nearest\")"
   ]
  },
  {
   "cell_type": "code",
   "execution_count": 28,
   "metadata": {},
   "outputs": [
    {
     "name": "stdout",
     "output_type": "stream",
     "text": [
      "[ 0  0  0  0  0  0  0  0  0  0  0  0  0  0  0  0  0  0  0  0  0 16  0  0\n",
      "  0  0 16  0  0 16  0  0  0  0 16 16 16 16  0  0  0  0  0  0  1 16  0  0\n",
      "  0  0  0  0  0 16  0  0  0  0  0  0  0  0  0  0]\n",
      "(64,)\n"
     ]
    }
   ],
   "source": [
    "vector = imagen0_16.flatten()\n",
    "print(vector)\n",
    "print(vector.shape)"
   ]
  },
  {
   "cell_type": "code",
   "execution_count": 29,
   "metadata": {},
   "outputs": [
    {
     "name": "stdout",
     "output_type": "stream",
     "text": [
      "Preparando predicciones\n",
      "El numero 4 fue clasificado como 4.0\n"
     ]
    },
    {
     "data": {
      "text/plain": [
       "<matplotlib.image.AxesImage at 0x1453cf0ae50>"
      ]
     },
     "execution_count": 29,
     "metadata": {},
     "output_type": "execute_result"
    },
    {
     "data": {
      "image/png": "[encoded data removed]",
      "text/plain": [
       "<Figure size 640x480 with 1 Axes>"
      ]
     },
     "metadata": {},
     "output_type": "display_data"
    }
   ],
   "source": [
    "y_pred = model.predict(vector)\n",
    "\n",
    "print(f\"El numero {clase} fue clasificado como {y_pred}\")\n",
    "\n",
    "datos_res = np.reshape(vector, (8,8))\n",
    "plt.imshow(datos_res, cmap= plt.cm.gray_r, interpolation=\"nearest\")"
   ]
  }
 ],
 "metadata": {
  "kernelspec": {
   "display_name": "Python 3",
   "language": "python",
   "name": "python3"
  },
  "language_info": {
   "codemirror_mode": {
    "name": "ipython",
    "version": 3
   },
   "file_extension": ".py",
   "mimetype": "text/x-python",
   "name": "python",
   "nbconvert_exporter": "python",
   "pygments_lexer": "ipython3",
   "version": "3.11.2"
  },
  "orig_nbformat": 4
 },
 "nbformat": 4,
 "nbformat_minor": 2
}
